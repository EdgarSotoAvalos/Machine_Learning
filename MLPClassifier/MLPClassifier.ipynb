{
 "cells": [
  {
   "cell_type": "code",
   "execution_count": 2,
   "metadata": {},
   "outputs": [
    {
     "name": "stderr",
     "output_type": "stream",
     "text": [
      "c:\\Users\\PC\\AppData\\Local\\Programs\\Python\\Python311\\Lib\\site-packages\\sklearn\\neural_network\\_multilayer_perceptron.py:686: ConvergenceWarning: Stochastic Optimizer: Maximum iterations (20) reached and the optimization hasn't converged yet.\n",
      "  warnings.warn(\n",
      "c:\\Users\\PC\\AppData\\Local\\Programs\\Python\\Python311\\Lib\\site-packages\\sklearn\\neural_network\\_multilayer_perceptron.py:686: ConvergenceWarning: Stochastic Optimizer: Maximum iterations (20) reached and the optimization hasn't converged yet.\n",
      "  warnings.warn(\n",
      "c:\\Users\\PC\\AppData\\Local\\Programs\\Python\\Python311\\Lib\\site-packages\\sklearn\\neural_network\\_multilayer_perceptron.py:686: ConvergenceWarning: Stochastic Optimizer: Maximum iterations (20) reached and the optimization hasn't converged yet.\n",
      "  warnings.warn(\n",
      "c:\\Users\\PC\\AppData\\Local\\Programs\\Python\\Python311\\Lib\\site-packages\\sklearn\\metrics\\_classification.py:1344: UndefinedMetricWarning: Precision is ill-defined and being set to 0.0 in labels with no predicted samples. Use `zero_division` parameter to control this behavior.\n",
      "  _warn_prf(average, modifier, msg_start, len(result))\n",
      "c:\\Users\\PC\\AppData\\Local\\Programs\\Python\\Python311\\Lib\\site-packages\\sklearn\\neural_network\\_multilayer_perceptron.py:686: ConvergenceWarning: Stochastic Optimizer: Maximum iterations (20) reached and the optimization hasn't converged yet.\n",
      "  warnings.warn(\n",
      "c:\\Users\\PC\\AppData\\Local\\Programs\\Python\\Python311\\Lib\\site-packages\\sklearn\\neural_network\\_multilayer_perceptron.py:686: ConvergenceWarning: Stochastic Optimizer: Maximum iterations (20) reached and the optimization hasn't converged yet.\n",
      "  warnings.warn(\n"
     ]
    },
    {
     "name": "stdout",
     "output_type": "stream",
     "text": [
      "Promedios utilizando el learning rate: 0.01 en el fold: 1\n",
      "Promedio Accuracy: 0.8666666666666667\n",
      "Promedio Precision: 0.9047619047619048\n",
      "Promedio Recall: 0.8666666666666667\n",
      "Promedio F1-score: 0.861111111111111\n",
      "Promedios utilizando el learning rate: 0.001 en el fold: 1\n",
      "Promedio Accuracy: 0.4666666666666667\n",
      "Promedio Precision: 0.6190476190476191\n",
      "Promedio Recall: 0.4666666666666666\n",
      "Promedio F1-score: 0.4444444444444445\n",
      "Promedios utilizando el learning rate: 0.0001 en el fold: 1\n",
      "Promedio Accuracy: 0.5333333333333333\n",
      "Promedio Precision: 0.3666666666666667\n",
      "Promedio Recall: 0.5333333333333333\n",
      "Promedio F1-score: 0.4222222222222222\n",
      "Promedios utilizando el learning rate: 0.01 en el fold: 2\n",
      "Promedio Accuracy: 0.8666666666666667\n",
      "Promedio Precision: 0.9047619047619048\n",
      "Promedio Recall: 0.8666666666666667\n",
      "Promedio F1-score: 0.861111111111111\n",
      "Promedios utilizando el learning rate: 0.001 en el fold: 2\n",
      "Promedio Accuracy: 0.7333333333333333\n",
      "Promedio Precision: 0.7936507936507936\n",
      "Promedio Recall: 0.7333333333333334\n",
      "Promedio F1-score: 0.7106782106782106\n",
      "Promedios utilizando el learning rate: 0.0001 en el fold: 2\n",
      "Promedio Accuracy: 0.6\n",
      "Promedio Precision: 0.4047619047619048\n",
      "Promedio Recall: 0.6\n",
      "Promedio F1-score: 0.4829059829059829\n",
      "Promedios utilizando el learning rate: 0.01 en el fold: 3\n",
      "Promedio Accuracy: 0.8666666666666667\n",
      "Promedio Precision: 0.9047619047619048\n",
      "Promedio Recall: 0.8666666666666667\n",
      "Promedio F1-score: 0.861111111111111\n"
     ]
    },
    {
     "name": "stderr",
     "output_type": "stream",
     "text": [
      "c:\\Users\\PC\\AppData\\Local\\Programs\\Python\\Python311\\Lib\\site-packages\\sklearn\\neural_network\\_multilayer_perceptron.py:686: ConvergenceWarning: Stochastic Optimizer: Maximum iterations (20) reached and the optimization hasn't converged yet.\n",
      "  warnings.warn(\n",
      "c:\\Users\\PC\\AppData\\Local\\Programs\\Python\\Python311\\Lib\\site-packages\\sklearn\\metrics\\_classification.py:1344: UndefinedMetricWarning: Precision is ill-defined and being set to 0.0 in labels with no predicted samples. Use `zero_division` parameter to control this behavior.\n",
      "  _warn_prf(average, modifier, msg_start, len(result))\n",
      "c:\\Users\\PC\\AppData\\Local\\Programs\\Python\\Python311\\Lib\\site-packages\\sklearn\\neural_network\\_multilayer_perceptron.py:686: ConvergenceWarning: Stochastic Optimizer: Maximum iterations (20) reached and the optimization hasn't converged yet.\n",
      "  warnings.warn(\n",
      "c:\\Users\\PC\\AppData\\Local\\Programs\\Python\\Python311\\Lib\\site-packages\\sklearn\\neural_network\\_multilayer_perceptron.py:686: ConvergenceWarning: Stochastic Optimizer: Maximum iterations (20) reached and the optimization hasn't converged yet.\n",
      "  warnings.warn(\n"
     ]
    },
    {
     "name": "stdout",
     "output_type": "stream",
     "text": [
      "Promedios utilizando el learning rate: 0.001 en el fold: 3\n",
      "Promedio Accuracy: 0.7333333333333333\n",
      "Promedio Precision: 0.8518518518518517\n",
      "Promedio Recall: 0.7333333333333334\n",
      "Promedio F1-score: 0.6825396825396824\n",
      "Promedios utilizando el learning rate: 0.0001 en el fold: 3\n",
      "Promedio Accuracy: 0.6\n",
      "Promedio Precision: 0.40740740740740744\n",
      "Promedio Recall: 0.6\n",
      "Promedio F1-score: 0.4805194805194805\n",
      "Promedios utilizando el learning rate: 0.01 en el fold: 4\n",
      "Promedio Accuracy: 0.8666666666666667\n",
      "Promedio Precision: 0.8666666666666667\n",
      "Promedio Recall: 0.8666666666666667\n",
      "Promedio F1-score: 0.8666666666666668\n"
     ]
    },
    {
     "name": "stderr",
     "output_type": "stream",
     "text": [
      "c:\\Users\\PC\\AppData\\Local\\Programs\\Python\\Python311\\Lib\\site-packages\\sklearn\\neural_network\\_multilayer_perceptron.py:686: ConvergenceWarning: Stochastic Optimizer: Maximum iterations (20) reached and the optimization hasn't converged yet.\n",
      "  warnings.warn(\n",
      "c:\\Users\\PC\\AppData\\Local\\Programs\\Python\\Python311\\Lib\\site-packages\\sklearn\\metrics\\_classification.py:1344: UndefinedMetricWarning: Precision is ill-defined and being set to 0.0 in labels with no predicted samples. Use `zero_division` parameter to control this behavior.\n",
      "  _warn_prf(average, modifier, msg_start, len(result))\n",
      "c:\\Users\\PC\\AppData\\Local\\Programs\\Python\\Python311\\Lib\\site-packages\\sklearn\\neural_network\\_multilayer_perceptron.py:686: ConvergenceWarning: Stochastic Optimizer: Maximum iterations (20) reached and the optimization hasn't converged yet.\n",
      "  warnings.warn(\n",
      "c:\\Users\\PC\\AppData\\Local\\Programs\\Python\\Python311\\Lib\\site-packages\\sklearn\\neural_network\\_multilayer_perceptron.py:686: ConvergenceWarning: Stochastic Optimizer: Maximum iterations (20) reached and the optimization hasn't converged yet.\n",
      "  warnings.warn(\n"
     ]
    },
    {
     "name": "stdout",
     "output_type": "stream",
     "text": [
      "Promedios utilizando el learning rate: 0.001 en el fold: 4\n",
      "Promedio Accuracy: 0.8\n",
      "Promedio Precision: 0.8214285714285715\n",
      "Promedio Recall: 0.7999999999999999\n",
      "Promedio F1-score: 0.7962962962962963\n",
      "Promedios utilizando el learning rate: 0.0001 en el fold: 4\n",
      "Promedio Accuracy: 0.4\n",
      "Promedio Precision: 0.3\n",
      "Promedio Recall: 0.4000000000000001\n",
      "Promedio F1-score: 0.32592592592592595\n",
      "Promedios utilizando el learning rate: 0.01 en el fold: 5\n",
      "Promedio Accuracy: 0.8666666666666667\n",
      "Promedio Precision: 0.9047619047619048\n",
      "Promedio Recall: 0.8666666666666667\n",
      "Promedio F1-score: 0.861111111111111\n"
     ]
    },
    {
     "name": "stderr",
     "output_type": "stream",
     "text": [
      "c:\\Users\\PC\\AppData\\Local\\Programs\\Python\\Python311\\Lib\\site-packages\\sklearn\\neural_network\\_multilayer_perceptron.py:686: ConvergenceWarning: Stochastic Optimizer: Maximum iterations (20) reached and the optimization hasn't converged yet.\n",
      "  warnings.warn(\n",
      "c:\\Users\\PC\\AppData\\Local\\Programs\\Python\\Python311\\Lib\\site-packages\\sklearn\\neural_network\\_multilayer_perceptron.py:686: ConvergenceWarning: Stochastic Optimizer: Maximum iterations (20) reached and the optimization hasn't converged yet.\n",
      "  warnings.warn(\n",
      "c:\\Users\\PC\\AppData\\Local\\Programs\\Python\\Python311\\Lib\\site-packages\\sklearn\\neural_network\\_multilayer_perceptron.py:686: ConvergenceWarning: Stochastic Optimizer: Maximum iterations (20) reached and the optimization hasn't converged yet.\n",
      "  warnings.warn(\n"
     ]
    },
    {
     "name": "stdout",
     "output_type": "stream",
     "text": [
      "Promedios utilizando el learning rate: 0.001 en el fold: 5\n",
      "Promedio Accuracy: 0.8\n",
      "Promedio Precision: 0.8055555555555555\n",
      "Promedio Recall: 0.8000000000000002\n",
      "Promedio F1-score: 0.7979797979797979\n",
      "Promedios utilizando el learning rate: 0.0001 en el fold: 5\n",
      "Promedio Accuracy: 0.3333333333333333\n",
      "Promedio Precision: 0.2222222222222222\n",
      "Promedio Recall: 0.3333333333333333\n",
      "Promedio F1-score: 0.26406926406926406\n",
      "Promedios utilizando el learning rate: 0.01 en el fold: 6\n",
      "Promedio Accuracy: 0.9333333333333333\n",
      "Promedio Precision: 0.9444444444444445\n",
      "Promedio Recall: 0.9333333333333332\n",
      "Promedio F1-score: 0.9326599326599326\n"
     ]
    },
    {
     "name": "stderr",
     "output_type": "stream",
     "text": [
      "c:\\Users\\PC\\AppData\\Local\\Programs\\Python\\Python311\\Lib\\site-packages\\sklearn\\neural_network\\_multilayer_perceptron.py:686: ConvergenceWarning: Stochastic Optimizer: Maximum iterations (20) reached and the optimization hasn't converged yet.\n",
      "  warnings.warn(\n",
      "c:\\Users\\PC\\AppData\\Local\\Programs\\Python\\Python311\\Lib\\site-packages\\sklearn\\metrics\\_classification.py:1344: UndefinedMetricWarning: Precision is ill-defined and being set to 0.0 in labels with no predicted samples. Use `zero_division` parameter to control this behavior.\n",
      "  _warn_prf(average, modifier, msg_start, len(result))\n",
      "c:\\Users\\PC\\AppData\\Local\\Programs\\Python\\Python311\\Lib\\site-packages\\sklearn\\neural_network\\_multilayer_perceptron.py:686: ConvergenceWarning: Stochastic Optimizer: Maximum iterations (20) reached and the optimization hasn't converged yet.\n",
      "  warnings.warn(\n",
      "c:\\Users\\PC\\AppData\\Local\\Programs\\Python\\Python311\\Lib\\site-packages\\sklearn\\neural_network\\_multilayer_perceptron.py:686: ConvergenceWarning: Stochastic Optimizer: Maximum iterations (20) reached and the optimization hasn't converged yet.\n",
      "  warnings.warn(\n"
     ]
    },
    {
     "name": "stdout",
     "output_type": "stream",
     "text": [
      "Promedios utilizando el learning rate: 0.001 en el fold: 6\n",
      "Promedio Accuracy: 0.8\n",
      "Promedio Precision: 0.8333333333333334\n",
      "Promedio Recall: 0.7999999999999999\n",
      "Promedio F1-score: 0.7954545454545454\n",
      "Promedios utilizando el learning rate: 0.0001 en el fold: 6\n",
      "Promedio Accuracy: 0.5333333333333333\n",
      "Promedio Precision: 0.47222222222222227\n",
      "Promedio Recall: 0.5333333333333333\n",
      "Promedio F1-score: 0.446078431372549\n",
      "Promedios utilizando el learning rate: 0.01 en el fold: 7\n",
      "Promedio Accuracy: 0.8666666666666667\n",
      "Promedio Precision: 0.9047619047619048\n",
      "Promedio Recall: 0.8666666666666667\n",
      "Promedio F1-score: 0.861111111111111\n"
     ]
    },
    {
     "name": "stderr",
     "output_type": "stream",
     "text": [
      "c:\\Users\\PC\\AppData\\Local\\Programs\\Python\\Python311\\Lib\\site-packages\\sklearn\\neural_network\\_multilayer_perceptron.py:686: ConvergenceWarning: Stochastic Optimizer: Maximum iterations (20) reached and the optimization hasn't converged yet.\n",
      "  warnings.warn(\n",
      "c:\\Users\\PC\\AppData\\Local\\Programs\\Python\\Python311\\Lib\\site-packages\\sklearn\\metrics\\_classification.py:1344: UndefinedMetricWarning: Precision is ill-defined and being set to 0.0 in labels with no predicted samples. Use `zero_division` parameter to control this behavior.\n",
      "  _warn_prf(average, modifier, msg_start, len(result))\n",
      "c:\\Users\\PC\\AppData\\Local\\Programs\\Python\\Python311\\Lib\\site-packages\\sklearn\\neural_network\\_multilayer_perceptron.py:686: ConvergenceWarning: Stochastic Optimizer: Maximum iterations (20) reached and the optimization hasn't converged yet.\n",
      "  warnings.warn(\n",
      "c:\\Users\\PC\\AppData\\Local\\Programs\\Python\\Python311\\Lib\\site-packages\\sklearn\\neural_network\\_multilayer_perceptron.py:686: ConvergenceWarning: Stochastic Optimizer: Maximum iterations (20) reached and the optimization hasn't converged yet.\n",
      "  warnings.warn(\n"
     ]
    },
    {
     "name": "stdout",
     "output_type": "stream",
     "text": [
      "Promedios utilizando el learning rate: 0.001 en el fold: 7\n",
      "Promedio Accuracy: 0.7333333333333333\n",
      "Promedio Precision: 0.7904761904761904\n",
      "Promedio Recall: 0.7333333333333334\n",
      "Promedio F1-score: 0.7388888888888889\n",
      "Promedios utilizando el learning rate: 0.0001 en el fold: 7\n",
      "Promedio Accuracy: 0.4666666666666667\n",
      "Promedio Precision: 0.3333333333333333\n",
      "Promedio Recall: 0.4666666666666666\n",
      "Promedio F1-score: 0.37777777777777777\n",
      "Promedios utilizando el learning rate: 0.01 en el fold: 8\n",
      "Promedio Accuracy: 0.9333333333333333\n",
      "Promedio Precision: 0.9444444444444445\n",
      "Promedio Recall: 0.9333333333333332\n",
      "Promedio F1-score: 0.9326599326599326\n"
     ]
    },
    {
     "name": "stderr",
     "output_type": "stream",
     "text": [
      "c:\\Users\\PC\\AppData\\Local\\Programs\\Python\\Python311\\Lib\\site-packages\\sklearn\\neural_network\\_multilayer_perceptron.py:686: ConvergenceWarning: Stochastic Optimizer: Maximum iterations (20) reached and the optimization hasn't converged yet.\n",
      "  warnings.warn(\n",
      "c:\\Users\\PC\\AppData\\Local\\Programs\\Python\\Python311\\Lib\\site-packages\\sklearn\\metrics\\_classification.py:1344: UndefinedMetricWarning: Precision is ill-defined and being set to 0.0 in labels with no predicted samples. Use `zero_division` parameter to control this behavior.\n",
      "  _warn_prf(average, modifier, msg_start, len(result))\n",
      "c:\\Users\\PC\\AppData\\Local\\Programs\\Python\\Python311\\Lib\\site-packages\\sklearn\\neural_network\\_multilayer_perceptron.py:686: ConvergenceWarning: Stochastic Optimizer: Maximum iterations (20) reached and the optimization hasn't converged yet.\n",
      "  warnings.warn(\n",
      "c:\\Users\\PC\\AppData\\Local\\Programs\\Python\\Python311\\Lib\\site-packages\\sklearn\\neural_network\\_multilayer_perceptron.py:686: ConvergenceWarning: Stochastic Optimizer: Maximum iterations (20) reached and the optimization hasn't converged yet.\n",
      "  warnings.warn(\n"
     ]
    },
    {
     "name": "stdout",
     "output_type": "stream",
     "text": [
      "Promedios utilizando el learning rate: 0.001 en el fold: 8\n",
      "Promedio Accuracy: 0.8\n",
      "Promedio Precision: 0.8222222222222223\n",
      "Promedio Recall: 0.8000000000000002\n",
      "Promedio F1-score: 0.8053872053872054\n",
      "Promedios utilizando el learning rate: 0.0001 en el fold: 8\n",
      "Promedio Accuracy: 0.4666666666666667\n",
      "Promedio Precision: 0.3333333333333333\n",
      "Promedio Recall: 0.4666666666666666\n",
      "Promedio F1-score: 0.37777777777777777\n",
      "Promedios utilizando el learning rate: 0.01 en el fold: 9\n",
      "Promedio Accuracy: 0.8666666666666667\n",
      "Promedio Precision: 0.9047619047619048\n",
      "Promedio Recall: 0.8666666666666667\n",
      "Promedio F1-score: 0.861111111111111\n"
     ]
    },
    {
     "name": "stderr",
     "output_type": "stream",
     "text": [
      "c:\\Users\\PC\\AppData\\Local\\Programs\\Python\\Python311\\Lib\\site-packages\\sklearn\\neural_network\\_multilayer_perceptron.py:686: ConvergenceWarning: Stochastic Optimizer: Maximum iterations (20) reached and the optimization hasn't converged yet.\n",
      "  warnings.warn(\n",
      "c:\\Users\\PC\\AppData\\Local\\Programs\\Python\\Python311\\Lib\\site-packages\\sklearn\\metrics\\_classification.py:1344: UndefinedMetricWarning: Precision is ill-defined and being set to 0.0 in labels with no predicted samples. Use `zero_division` parameter to control this behavior.\n",
      "  _warn_prf(average, modifier, msg_start, len(result))\n",
      "c:\\Users\\PC\\AppData\\Local\\Programs\\Python\\Python311\\Lib\\site-packages\\sklearn\\neural_network\\_multilayer_perceptron.py:686: ConvergenceWarning: Stochastic Optimizer: Maximum iterations (20) reached and the optimization hasn't converged yet.\n",
      "  warnings.warn(\n",
      "c:\\Users\\PC\\AppData\\Local\\Programs\\Python\\Python311\\Lib\\site-packages\\sklearn\\neural_network\\_multilayer_perceptron.py:686: ConvergenceWarning: Stochastic Optimizer: Maximum iterations (20) reached and the optimization hasn't converged yet.\n",
      "  warnings.warn(\n"
     ]
    },
    {
     "name": "stdout",
     "output_type": "stream",
     "text": [
      "Promedios utilizando el learning rate: 0.001 en el fold: 9\n",
      "Promedio Accuracy: 0.6\n",
      "Promedio Precision: 0.7222222222222222\n",
      "Promedio Recall: 0.6\n",
      "Promedio F1-score: 0.5586635586635587\n",
      "Promedios utilizando el learning rate: 0.0001 en el fold: 9\n",
      "Promedio Accuracy: 0.5333333333333333\n",
      "Promedio Precision: 0.3666666666666667\n",
      "Promedio Recall: 0.5333333333333333\n",
      "Promedio F1-score: 0.4222222222222222\n",
      "Promedios utilizando el learning rate: 0.01 en el fold: 10\n",
      "Promedio Accuracy: 0.7333333333333333\n",
      "Promedio Precision: 0.7333333333333334\n",
      "Promedio Recall: 0.7333333333333334\n",
      "Promedio F1-score: 0.7333333333333334\n"
     ]
    },
    {
     "name": "stderr",
     "output_type": "stream",
     "text": [
      "c:\\Users\\PC\\AppData\\Local\\Programs\\Python\\Python311\\Lib\\site-packages\\sklearn\\neural_network\\_multilayer_perceptron.py:686: ConvergenceWarning: Stochastic Optimizer: Maximum iterations (20) reached and the optimization hasn't converged yet.\n",
      "  warnings.warn(\n",
      "c:\\Users\\PC\\AppData\\Local\\Programs\\Python\\Python311\\Lib\\site-packages\\sklearn\\metrics\\_classification.py:1344: UndefinedMetricWarning: Precision is ill-defined and being set to 0.0 in labels with no predicted samples. Use `zero_division` parameter to control this behavior.\n",
      "  _warn_prf(average, modifier, msg_start, len(result))\n",
      "c:\\Users\\PC\\AppData\\Local\\Programs\\Python\\Python311\\Lib\\site-packages\\sklearn\\neural_network\\_multilayer_perceptron.py:686: ConvergenceWarning: Stochastic Optimizer: Maximum iterations (20) reached and the optimization hasn't converged yet.\n",
      "  warnings.warn(\n",
      "c:\\Users\\PC\\AppData\\Local\\Programs\\Python\\Python311\\Lib\\site-packages\\sklearn\\neural_network\\_multilayer_perceptron.py:686: ConvergenceWarning: Stochastic Optimizer: Maximum iterations (20) reached and the optimization hasn't converged yet.\n",
      "  warnings.warn(\n"
     ]
    },
    {
     "name": "stdout",
     "output_type": "stream",
     "text": [
      "Promedios utilizando el learning rate: 0.001 en el fold: 10\n",
      "Promedio Accuracy: 0.4\n",
      "Promedio Precision: 0.5481481481481482\n",
      "Promedio Recall: 0.39999999999999997\n",
      "Promedio F1-score: 0.3682539682539683\n",
      "Promedios utilizando el learning rate: 0.0001 en el fold: 10\n",
      "Promedio Accuracy: 0.3333333333333333\n",
      "Promedio Precision: 0.15151515151515152\n",
      "Promedio Recall: 0.3333333333333333\n",
      "Promedio F1-score: 0.20833333333333334\n",
      "Los promedios totales de las metricas son:\n",
      "\n",
      "Promedio Accuracy: 0.6777777777777778\n",
      "Promedio Precision: 0.6627841911175245\n",
      "Promedio Recall: 0.6777777777777778\n",
      "Promedio F1-score: 0.637946851623322\n"
     ]
    },
    {
     "name": "stderr",
     "output_type": "stream",
     "text": [
      "c:\\Users\\PC\\AppData\\Local\\Programs\\Python\\Python311\\Lib\\site-packages\\sklearn\\neural_network\\_multilayer_perceptron.py:686: ConvergenceWarning: Stochastic Optimizer: Maximum iterations (20) reached and the optimization hasn't converged yet.\n",
      "  warnings.warn(\n",
      "c:\\Users\\PC\\AppData\\Local\\Programs\\Python\\Python311\\Lib\\site-packages\\sklearn\\metrics\\_classification.py:1344: UndefinedMetricWarning: Precision is ill-defined and being set to 0.0 in labels with no predicted samples. Use `zero_division` parameter to control this behavior.\n",
      "  _warn_prf(average, modifier, msg_start, len(result))\n"
     ]
    }
   ],
   "source": [
    "from sklearn.datasets import load_iris\n",
    "from sklearn.model_selection import StratifiedKFold\n",
    "from sklearn.neural_network import MLPClassifier\n",
    "from sklearn.metrics import accuracy_score, precision_score, recall_score, f1_score\n",
    "import numpy as np\n",
    "#Declaramos la varibale split\n",
    "aux = 1\n",
    "# Cargar el conjunto de datos Iris\n",
    "iris = load_iris()\n",
    "X = iris.data\n",
    "y = iris.target\n",
    "\n",
    "# Parámetros de configuración\n",
    "learning_rates = [0.01, 0.001, 0.0001]\n",
    "hidden_layer_size = 50\n",
    "activation = 'tanh'\n",
    "max_epochs = 20\n",
    "validation_ratio = 0.2\n",
    "\n",
    "# Listas para almacenar las métricas de cada iteración\n",
    "accuracies = []\n",
    "precisions = []\n",
    "recalls = []\n",
    "f1_scores = []\n",
    "\n",
    "# Crear una instancia de StratifiedKFold con k = 10\n",
    "kfold = StratifiedKFold(n_splits=10, shuffle=True, random_state=42)\n",
    "\n",
    "# Realizar la validación cruzada\n",
    "for train_index, test_index in kfold.split(X, y):\n",
    "    X_train, X_test = X[train_index], X[test_index]\n",
    "    y_train, y_test = y[train_index], y[test_index]\n",
    "\n",
    "    # Normalizar los datos de entrada (opcional pero recomendado para redes neuronales)\n",
    "    mean = np.mean(X_train, axis=0)\n",
    "    std = np.std(X_train, axis=0)\n",
    "    X_train = (X_train - mean) / std\n",
    "    X_test = (X_test - mean) / std\n",
    "\n",
    "    # Iterar sobre los diferentes valores de learning rate\n",
    "    for learning_rate in learning_rates:\n",
    "        # Crear el clasificador MLP\n",
    "        model = MLPClassifier(hidden_layer_sizes=(hidden_layer_size,),\n",
    "                              activation=activation,\n",
    "                              learning_rate_init=learning_rate,\n",
    "                              solver='sgd',\n",
    "                              max_iter=max_epochs,\n",
    "                              validation_fraction=validation_ratio,\n",
    "                              random_state=42)\n",
    "\n",
    "        # Entrenar el modelo\n",
    "        model.fit(X_train, y_train)\n",
    "\n",
    "        # Predecir en el conjunto de prueba\n",
    "        y_pred = model.predict(X_test)\n",
    "\n",
    "        # Calcular las métricas del modelo\n",
    "        accuracy = accuracy_score(y_test, y_pred)\n",
    "        precision = precision_score(y_test, y_pred, average='macro')\n",
    "        recall = recall_score(y_test, y_pred, average='macro')\n",
    "        f1 = f1_score(y_test, y_pred, average='macro')\n",
    "\n",
    "        # Almacenar las métricas en las listas\n",
    "        accuracies.append(accuracy)\n",
    "        precisions.append(precision)\n",
    "        recalls.append(recall)\n",
    "        f1_scores.append(f1)\n",
    "        print(f\"Promedios utilizando el learning rate: {learning_rate} en el fold: {aux}\")\n",
    "        print(f\"Promedio Accuracy: {accuracy}\")\n",
    "        print(f\"Promedio Precision: {precision}\")\n",
    "        print(f\"Promedio Recall: {recall}\")\n",
    "        print(f\"Promedio F1-score: {f1}\")\n",
    "    aux = aux +1\n",
    "\n",
    "# Calcular las métricas promedios totales\n",
    "avg_accuracy = np.mean(accuracies)\n",
    "avg_precision = np.mean(precisions)\n",
    "avg_recall = np.mean(recalls)\n",
    "avg_f1 = np.mean(f1_scores)\n",
    "\n",
    "# Imprimir las métricas promedio\n",
    "print(\"Los promedios totales de las metricas son:\\n\")\n",
    "print(f\"Promedio Accuracy: {avg_accuracy}\")\n",
    "print(f\"Promedio Precision: {avg_precision}\")\n",
    "print(f\"Promedio Recall: {avg_recall}\")\n",
    "print(f\"Promedio F1-score: {avg_f1}\")\n"
   ]
  }
 ],
 "metadata": {
  "kernelspec": {
   "display_name": "Python 3",
   "language": "python",
   "name": "python3"
  },
  "language_info": {
   "codemirror_mode": {
    "name": "ipython",
    "version": 3
   },
   "file_extension": ".py",
   "mimetype": "text/x-python",
   "name": "python",
   "nbconvert_exporter": "python",
   "pygments_lexer": "ipython3",
   "version": "3.11.2"
  },
  "orig_nbformat": 4
 },
 "nbformat": 4,
 "nbformat_minor": 2
}
