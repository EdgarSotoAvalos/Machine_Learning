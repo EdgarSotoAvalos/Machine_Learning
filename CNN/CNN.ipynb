{
 "cells": [
  {
   "attachments": {},
   "cell_type": "markdown",
   "metadata": {},
   "source": [
    "\n",
    "# Red neuronal convolucional usando banco de datos de imagenes\n"
   ]
  },
  {
   "attachments": {},
   "cell_type": "markdown",
   "metadata": {},
   "source": [
    "## Importamos las librerias"
   ]
  },
  {
   "cell_type": "code",
   "execution_count": 27,
   "metadata": {},
   "outputs": [
    {
     "data": {
      "text/plain": [
       "'2.12.0'"
      ]
     },
     "execution_count": 27,
     "metadata": {},
     "output_type": "execute_result"
    }
   ],
   "source": [
    "import numpy as np\n",
    "import pandas as pd\n",
    "import tensorflow as tf\n",
    "from keras.preprocessing.image import ImageDataGenerator\n",
    "from keras.models import Sequential\n",
    "from keras.layers import Conv2D, MaxPooling2D, Flatten, Dense\n",
    "#Revisamos la version de tensorflow\n",
    "tf.__version__"
   ]
  },
  {
   "attachments": {},
   "cell_type": "markdown",
   "metadata": {},
   "source": [
    "## Pre-Procesamiento de Datos"
   ]
  },
  {
   "cell_type": "code",
   "execution_count": 28,
   "metadata": {},
   "outputs": [],
   "source": [
    "#Especificamos los parametros del generador ENTRENAMIENTO donde tambien especificamos lo del 20% es validation split\n",
    "train_datagen = ImageDataGenerator(rescale=1./255,shear_range=0.2,zoom_range=0.2,horizontal_flip=True,validation_split=0.2)\n",
    "#Especificamos parametros del generador VALIDACION\n",
    "validation_datagen = ImageDataGenerator(rescale=1./255)"
   ]
  },
  {
   "cell_type": "code",
   "execution_count": 30,
   "metadata": {},
   "outputs": [
    {
     "name": "stdout",
     "output_type": "stream",
     "text": [
      "Found 6400 images belonging to 2 classes.\n",
      "Found 1600 images belonging to 2 classes.\n",
      "Found 2000 images belonging to 2 classes.\n"
     ]
    }
   ],
   "source": [
    "train_generator = train_datagen.flow_from_directory('training_set',target_size=(224, 224),batch_size=32,class_mode='binary',subset='training')\n",
    "#Utilizamos el mismo datagen\n",
    "validation_generator = train_datagen.flow_from_directory('training_set',target_size=(224, 224),batch_size=32,class_mode='binary',subset='validation')\n",
    "test_set = train_datagen.flow_from_directory('test_set', target_size=(224, 224), batch_size=32, class_mode='binary')"
   ]
  },
  {
   "attachments": {},
   "cell_type": "markdown",
   "metadata": {},
   "source": [
    "## Creacion de la red"
   ]
  },
  {
   "attachments": {},
   "cell_type": "markdown",
   "metadata": {},
   "source": [
    "### Creamos el modelo"
   ]
  },
  {
   "cell_type": "code",
   "execution_count": 31,
   "metadata": {},
   "outputs": [],
   "source": [
    "model = Sequential()"
   ]
  },
  {
   "attachments": {},
   "cell_type": "markdown",
   "metadata": {},
   "source": [
    "### Agregar capa convolucional"
   ]
  },
  {
   "cell_type": "code",
   "execution_count": 32,
   "metadata": {},
   "outputs": [],
   "source": [
    "model.add(Conv2D(7, (3, 3), strides=(2, 2), activation='relu', input_shape=(224, 224, 3))) "
   ]
  },
  {
   "attachments": {},
   "cell_type": "markdown",
   "metadata": {},
   "source": [
    "### Agregar capa de max pooling"
   ]
  },
  {
   "cell_type": "code",
   "execution_count": 33,
   "metadata": {},
   "outputs": [],
   "source": [
    "model.add(MaxPooling2D(pool_size=(3,3), strides=(2, 2)))"
   ]
  },
  {
   "attachments": {},
   "cell_type": "markdown",
   "metadata": {},
   "source": [
    "### Aplanar el maxpooling"
   ]
  },
  {
   "cell_type": "code",
   "execution_count": 34,
   "metadata": {},
   "outputs": [],
   "source": [
    "model.add(Flatten())"
   ]
  },
  {
   "attachments": {},
   "cell_type": "markdown",
   "metadata": {},
   "source": [
    "### Agregar capa completamente conectada"
   ]
  },
  {
   "cell_type": "code",
   "execution_count": 35,
   "metadata": {},
   "outputs": [],
   "source": [
    "model.add(Dense(units=128, activation='relu'))"
   ]
  },
  {
   "attachments": {},
   "cell_type": "markdown",
   "metadata": {},
   "source": [
    "### Agregar capa de salida"
   ]
  },
  {
   "cell_type": "code",
   "execution_count": 36,
   "metadata": {},
   "outputs": [],
   "source": [
    "model.add(Dense(units=1, activation='sigmoid'))"
   ]
  },
  {
   "attachments": {},
   "cell_type": "markdown",
   "metadata": {},
   "source": [
    "## Entrenando la Red"
   ]
  },
  {
   "attachments": {},
   "cell_type": "markdown",
   "metadata": {},
   "source": [
    "### Compilando"
   ]
  },
  {
   "cell_type": "code",
   "execution_count": 37,
   "metadata": {},
   "outputs": [],
   "source": [
    "model.compile(optimizer='adam', loss='binary_crossentropy', metrics=['accuracy'])"
   ]
  },
  {
   "cell_type": "code",
   "execution_count": 38,
   "metadata": {},
   "outputs": [
    {
     "name": "stdout",
     "output_type": "stream",
     "text": [
      "Model: \"sequential_2\"\n",
      "_________________________________________________________________\n",
      " Layer (type)                Output Shape              Param #   \n",
      "=================================================================\n",
      " conv2d_3 (Conv2D)           (None, 111, 111, 7)       196       \n",
      "                                                                 \n",
      " max_pooling2d_6 (MaxPooling  (None, 55, 55, 7)        0         \n",
      " 2D)                                                             \n",
      "                                                                 \n",
      " flatten_1 (Flatten)         (None, 21175)             0         \n",
      "                                                                 \n",
      " dense_2 (Dense)             (None, 128)               2710528   \n",
      "                                                                 \n",
      " dense_3 (Dense)             (None, 1)                 129       \n",
      "                                                                 \n",
      "=================================================================\n",
      "Total params: 2,710,853\n",
      "Trainable params: 2,710,853\n",
      "Non-trainable params: 0\n",
      "_________________________________________________________________\n",
      "None\n"
     ]
    }
   ],
   "source": [
    "print(model.summary())"
   ]
  },
  {
   "attachments": {},
   "cell_type": "markdown",
   "metadata": {},
   "source": [
    "### Entrenando"
   ]
  },
  {
   "cell_type": "code",
   "execution_count": 39,
   "metadata": {},
   "outputs": [
    {
     "name": "stdout",
     "output_type": "stream",
     "text": [
      "Epoch 1/100\n",
      "200/200 [==============================] - 219s 1s/step - loss: 0.8326 - accuracy: 0.5544 - val_loss: 0.6703 - val_accuracy: 0.5925\n",
      "Epoch 2/100\n",
      "200/200 [==============================] - 224s 1s/step - loss: 0.6460 - accuracy: 0.6177 - val_loss: 0.6745 - val_accuracy: 0.5935\n",
      "Epoch 3/100\n",
      "200/200 [==============================] - 215s 1s/step - loss: 0.6192 - accuracy: 0.6666 - val_loss: 0.6048 - val_accuracy: 0.6920\n",
      "Epoch 4/100\n",
      "200/200 [==============================] - 213s 1s/step - loss: 0.5990 - accuracy: 0.6800 - val_loss: 0.5958 - val_accuracy: 0.6865\n",
      "Epoch 5/100\n",
      "200/200 [==============================] - 212s 1s/step - loss: 0.5927 - accuracy: 0.6828 - val_loss: 0.5852 - val_accuracy: 0.6845\n",
      "Epoch 6/100\n",
      "200/200 [==============================] - 213s 1s/step - loss: 0.5729 - accuracy: 0.6995 - val_loss: 0.5694 - val_accuracy: 0.7065\n",
      "Epoch 7/100\n",
      "200/200 [==============================] - 214s 1s/step - loss: 0.5605 - accuracy: 0.7125 - val_loss: 0.5654 - val_accuracy: 0.6990\n",
      "Epoch 8/100\n",
      "200/200 [==============================] - 213s 1s/step - loss: 0.5506 - accuracy: 0.7225 - val_loss: 0.5471 - val_accuracy: 0.7295\n",
      "Epoch 9/100\n",
      "200/200 [==============================] - 211s 1s/step - loss: 0.5339 - accuracy: 0.7284 - val_loss: 0.5563 - val_accuracy: 0.7165\n",
      "Epoch 10/100\n",
      "200/200 [==============================] - 211s 1s/step - loss: 0.5227 - accuracy: 0.7422 - val_loss: 0.5423 - val_accuracy: 0.7375\n",
      "Epoch 11/100\n",
      "200/200 [==============================] - 210s 1s/step - loss: 0.5123 - accuracy: 0.7447 - val_loss: 0.5622 - val_accuracy: 0.7055\n",
      "Epoch 12/100\n",
      "200/200 [==============================] - 211s 1s/step - loss: 0.5065 - accuracy: 0.7511 - val_loss: 0.5377 - val_accuracy: 0.7270\n",
      "Epoch 13/100\n",
      "200/200 [==============================] - 210s 1s/step - loss: 0.5179 - accuracy: 0.7428 - val_loss: 0.5353 - val_accuracy: 0.7325\n",
      "Epoch 14/100\n",
      "200/200 [==============================] - 209s 1s/step - loss: 0.4923 - accuracy: 0.7672 - val_loss: 0.5457 - val_accuracy: 0.7150\n",
      "Epoch 15/100\n",
      "200/200 [==============================] - 211s 1s/step - loss: 0.4798 - accuracy: 0.7688 - val_loss: 0.5481 - val_accuracy: 0.7260\n",
      "Epoch 16/100\n",
      "200/200 [==============================] - 209s 1s/step - loss: 0.4670 - accuracy: 0.7775 - val_loss: 0.5357 - val_accuracy: 0.7440\n",
      "Epoch 17/100\n",
      "200/200 [==============================] - 212s 1s/step - loss: 0.4797 - accuracy: 0.7659 - val_loss: 0.5438 - val_accuracy: 0.7200\n",
      "Epoch 18/100\n",
      "200/200 [==============================] - 212s 1s/step - loss: 0.4680 - accuracy: 0.7797 - val_loss: 0.5400 - val_accuracy: 0.7345\n",
      "Epoch 19/100\n",
      "200/200 [==============================] - 210s 1s/step - loss: 0.4561 - accuracy: 0.7858 - val_loss: 0.5413 - val_accuracy: 0.7325\n",
      "Epoch 20/100\n",
      "200/200 [==============================] - 210s 1s/step - loss: 0.4595 - accuracy: 0.7844 - val_loss: 0.5277 - val_accuracy: 0.7410\n",
      "Epoch 21/100\n",
      "200/200 [==============================] - 209s 1s/step - loss: 0.4440 - accuracy: 0.7912 - val_loss: 0.5278 - val_accuracy: 0.7395\n",
      "Epoch 22/100\n",
      "200/200 [==============================] - 210s 1s/step - loss: 0.4394 - accuracy: 0.7898 - val_loss: 0.5084 - val_accuracy: 0.7585\n",
      "Epoch 23/100\n",
      "200/200 [==============================] - 209s 1s/step - loss: 0.4253 - accuracy: 0.7984 - val_loss: 0.5212 - val_accuracy: 0.7495\n",
      "Epoch 24/100\n",
      "200/200 [==============================] - 210s 1s/step - loss: 0.4205 - accuracy: 0.8050 - val_loss: 0.5205 - val_accuracy: 0.7625\n",
      "Epoch 25/100\n",
      "200/200 [==============================] - 209s 1s/step - loss: 0.4170 - accuracy: 0.8083 - val_loss: 0.5220 - val_accuracy: 0.7525\n",
      "Epoch 26/100\n",
      "200/200 [==============================] - 209s 1s/step - loss: 0.4123 - accuracy: 0.8095 - val_loss: 0.5564 - val_accuracy: 0.7420\n",
      "Epoch 27/100\n",
      "200/200 [==============================] - 209s 1s/step - loss: 0.4073 - accuracy: 0.8089 - val_loss: 0.5155 - val_accuracy: 0.7590\n",
      "Epoch 28/100\n",
      "200/200 [==============================] - 209s 1s/step - loss: 0.3951 - accuracy: 0.8217 - val_loss: 0.5268 - val_accuracy: 0.7515\n",
      "Epoch 29/100\n",
      "200/200 [==============================] - 209s 1s/step - loss: 0.3780 - accuracy: 0.8288 - val_loss: 0.5501 - val_accuracy: 0.7420\n",
      "Epoch 30/100\n",
      "200/200 [==============================] - 210s 1s/step - loss: 0.3920 - accuracy: 0.8233 - val_loss: 0.5409 - val_accuracy: 0.7540\n",
      "Epoch 31/100\n",
      "200/200 [==============================] - 209s 1s/step - loss: 0.3728 - accuracy: 0.8330 - val_loss: 0.5358 - val_accuracy: 0.7575\n",
      "Epoch 32/100\n",
      "200/200 [==============================] - 210s 1s/step - loss: 0.3817 - accuracy: 0.8297 - val_loss: 0.5299 - val_accuracy: 0.7525\n",
      "Epoch 33/100\n",
      "200/200 [==============================] - 209s 1s/step - loss: 0.3669 - accuracy: 0.8334 - val_loss: 0.5999 - val_accuracy: 0.7395\n",
      "Epoch 34/100\n",
      "200/200 [==============================] - 210s 1s/step - loss: 0.3587 - accuracy: 0.8475 - val_loss: 0.5610 - val_accuracy: 0.7580\n",
      "Epoch 35/100\n",
      "200/200 [==============================] - 210s 1s/step - loss: 0.3561 - accuracy: 0.8477 - val_loss: 0.5758 - val_accuracy: 0.7520\n",
      "Epoch 36/100\n",
      "200/200 [==============================] - 210s 1s/step - loss: 0.3385 - accuracy: 0.8494 - val_loss: 0.5650 - val_accuracy: 0.7395\n",
      "Epoch 37/100\n",
      "200/200 [==============================] - 217s 1s/step - loss: 0.3308 - accuracy: 0.8544 - val_loss: 0.5761 - val_accuracy: 0.7475\n",
      "Epoch 38/100\n",
      "200/200 [==============================] - 222s 1s/step - loss: 0.3228 - accuracy: 0.8577 - val_loss: 0.5610 - val_accuracy: 0.7635\n",
      "Epoch 39/100\n",
      "200/200 [==============================] - 218s 1s/step - loss: 0.3232 - accuracy: 0.8600 - val_loss: 0.5779 - val_accuracy: 0.7385\n",
      "Epoch 40/100\n",
      "200/200 [==============================] - 238s 1s/step - loss: 0.3138 - accuracy: 0.8616 - val_loss: 0.6222 - val_accuracy: 0.7370\n",
      "Epoch 41/100\n",
      "200/200 [==============================] - 227s 1s/step - loss: 0.3127 - accuracy: 0.8670 - val_loss: 0.5739 - val_accuracy: 0.7530\n",
      "Epoch 42/100\n",
      "200/200 [==============================] - 245s 1s/step - loss: 0.3031 - accuracy: 0.8714 - val_loss: 0.5735 - val_accuracy: 0.7620\n",
      "Epoch 43/100\n",
      "200/200 [==============================] - 215s 1s/step - loss: 0.2925 - accuracy: 0.8783 - val_loss: 0.6137 - val_accuracy: 0.7535\n",
      "Epoch 44/100\n",
      "200/200 [==============================] - 217s 1s/step - loss: 0.3024 - accuracy: 0.8675 - val_loss: 0.5592 - val_accuracy: 0.7640\n",
      "Epoch 45/100\n",
      "200/200 [==============================] - 214s 1s/step - loss: 0.2937 - accuracy: 0.8748 - val_loss: 0.6314 - val_accuracy: 0.7470\n",
      "Epoch 46/100\n",
      "200/200 [==============================] - 214s 1s/step - loss: 0.2765 - accuracy: 0.8848 - val_loss: 0.6475 - val_accuracy: 0.7570\n",
      "Epoch 47/100\n",
      "200/200 [==============================] - 214s 1s/step - loss: 0.2782 - accuracy: 0.8811 - val_loss: 0.6069 - val_accuracy: 0.7470\n",
      "Epoch 48/100\n",
      "200/200 [==============================] - 214s 1s/step - loss: 0.2522 - accuracy: 0.8922 - val_loss: 0.6885 - val_accuracy: 0.7390\n",
      "Epoch 49/100\n",
      "200/200 [==============================] - 215s 1s/step - loss: 0.2692 - accuracy: 0.8855 - val_loss: 0.6304 - val_accuracy: 0.7515\n",
      "Epoch 50/100\n",
      "200/200 [==============================] - 214s 1s/step - loss: 0.2502 - accuracy: 0.8955 - val_loss: 0.6601 - val_accuracy: 0.7620\n",
      "Epoch 51/100\n",
      "200/200 [==============================] - 215s 1s/step - loss: 0.2556 - accuracy: 0.8927 - val_loss: 0.7322 - val_accuracy: 0.7455\n",
      "Epoch 52/100\n",
      "200/200 [==============================] - 214s 1s/step - loss: 0.2391 - accuracy: 0.9002 - val_loss: 0.6779 - val_accuracy: 0.7370\n",
      "Epoch 53/100\n",
      "200/200 [==============================] - 213s 1s/step - loss: 0.2353 - accuracy: 0.9019 - val_loss: 0.6680 - val_accuracy: 0.7540\n",
      "Epoch 54/100\n",
      "200/200 [==============================] - 216s 1s/step - loss: 0.2259 - accuracy: 0.9083 - val_loss: 0.6863 - val_accuracy: 0.7575\n",
      "Epoch 55/100\n",
      "200/200 [==============================] - 213s 1s/step - loss: 0.2312 - accuracy: 0.9031 - val_loss: 0.6952 - val_accuracy: 0.7490\n",
      "Epoch 56/100\n",
      "200/200 [==============================] - 213s 1s/step - loss: 0.2224 - accuracy: 0.9039 - val_loss: 0.6975 - val_accuracy: 0.7425\n",
      "Epoch 57/100\n",
      "200/200 [==============================] - 213s 1s/step - loss: 0.2250 - accuracy: 0.9106 - val_loss: 0.6995 - val_accuracy: 0.7480\n",
      "Epoch 58/100\n",
      "200/200 [==============================] - 215s 1s/step - loss: 0.2234 - accuracy: 0.9067 - val_loss: 0.7259 - val_accuracy: 0.7475\n",
      "Epoch 59/100\n",
      "200/200 [==============================] - 214s 1s/step - loss: 0.2031 - accuracy: 0.9191 - val_loss: 0.7092 - val_accuracy: 0.7545\n",
      "Epoch 60/100\n",
      "200/200 [==============================] - 214s 1s/step - loss: 0.2064 - accuracy: 0.9206 - val_loss: 0.7892 - val_accuracy: 0.7460\n",
      "Epoch 61/100\n",
      "200/200 [==============================] - 213s 1s/step - loss: 0.1948 - accuracy: 0.9228 - val_loss: 0.7842 - val_accuracy: 0.7350\n",
      "Epoch 62/100\n",
      "200/200 [==============================] - 214s 1s/step - loss: 0.1880 - accuracy: 0.9231 - val_loss: 0.7663 - val_accuracy: 0.7440\n",
      "Epoch 63/100\n",
      "200/200 [==============================] - 214s 1s/step - loss: 0.1968 - accuracy: 0.9198 - val_loss: 0.7987 - val_accuracy: 0.7330\n",
      "Epoch 64/100\n",
      "200/200 [==============================] - 214s 1s/step - loss: 0.1960 - accuracy: 0.9247 - val_loss: 0.7458 - val_accuracy: 0.7535\n",
      "Epoch 65/100\n",
      "200/200 [==============================] - 213s 1s/step - loss: 0.1925 - accuracy: 0.9220 - val_loss: 0.7951 - val_accuracy: 0.7405\n",
      "Epoch 66/100\n",
      "200/200 [==============================] - 214s 1s/step - loss: 0.1851 - accuracy: 0.9237 - val_loss: 0.7798 - val_accuracy: 0.7635\n",
      "Epoch 67/100\n",
      "200/200 [==============================] - 213s 1s/step - loss: 0.1843 - accuracy: 0.9277 - val_loss: 0.8474 - val_accuracy: 0.7515\n",
      "Epoch 68/100\n",
      "200/200 [==============================] - 213s 1s/step - loss: 0.1850 - accuracy: 0.9269 - val_loss: 0.7386 - val_accuracy: 0.7535\n",
      "Epoch 69/100\n",
      "200/200 [==============================] - 214s 1s/step - loss: 0.1816 - accuracy: 0.9270 - val_loss: 0.7712 - val_accuracy: 0.7500\n",
      "Epoch 70/100\n",
      "200/200 [==============================] - 213s 1s/step - loss: 0.1730 - accuracy: 0.9300 - val_loss: 0.8601 - val_accuracy: 0.7395\n",
      "Epoch 71/100\n",
      "200/200 [==============================] - 215s 1s/step - loss: 0.1747 - accuracy: 0.9320 - val_loss: 0.8664 - val_accuracy: 0.7450\n",
      "Epoch 72/100\n",
      "200/200 [==============================] - 215s 1s/step - loss: 0.1728 - accuracy: 0.9344 - val_loss: 0.7995 - val_accuracy: 0.7440\n",
      "Epoch 73/100\n",
      "200/200 [==============================] - 213s 1s/step - loss: 0.1723 - accuracy: 0.9317 - val_loss: 0.8076 - val_accuracy: 0.7405\n",
      "Epoch 74/100\n",
      "200/200 [==============================] - 214s 1s/step - loss: 0.1634 - accuracy: 0.9381 - val_loss: 0.8867 - val_accuracy: 0.7345\n",
      "Epoch 75/100\n",
      "200/200 [==============================] - 213s 1s/step - loss: 0.1591 - accuracy: 0.9388 - val_loss: 0.8708 - val_accuracy: 0.7390\n",
      "Epoch 76/100\n",
      "200/200 [==============================] - 213s 1s/step - loss: 0.1722 - accuracy: 0.9302 - val_loss: 0.8725 - val_accuracy: 0.7490\n",
      "Epoch 77/100\n",
      "200/200 [==============================] - 216s 1s/step - loss: 0.1580 - accuracy: 0.9370 - val_loss: 0.9075 - val_accuracy: 0.7310\n",
      "Epoch 78/100\n",
      "200/200 [==============================] - 213s 1s/step - loss: 0.1539 - accuracy: 0.9405 - val_loss: 0.8698 - val_accuracy: 0.7535\n",
      "Epoch 79/100\n",
      "200/200 [==============================] - 215s 1s/step - loss: 0.1572 - accuracy: 0.9394 - val_loss: 0.9387 - val_accuracy: 0.7475\n",
      "Epoch 80/100\n",
      "200/200 [==============================] - 214s 1s/step - loss: 0.1414 - accuracy: 0.9433 - val_loss: 0.9499 - val_accuracy: 0.7495\n",
      "Epoch 81/100\n",
      "200/200 [==============================] - 213s 1s/step - loss: 0.1559 - accuracy: 0.9411 - val_loss: 0.9475 - val_accuracy: 0.7435\n",
      "Epoch 82/100\n",
      "200/200 [==============================] - 212s 1s/step - loss: 0.1651 - accuracy: 0.9369 - val_loss: 0.8648 - val_accuracy: 0.7385\n",
      "Epoch 83/100\n",
      "200/200 [==============================] - 214s 1s/step - loss: 0.1278 - accuracy: 0.9513 - val_loss: 0.9705 - val_accuracy: 0.7345\n",
      "Epoch 84/100\n",
      "200/200 [==============================] - 212s 1s/step - loss: 0.1563 - accuracy: 0.9420 - val_loss: 0.8538 - val_accuracy: 0.7530\n",
      "Epoch 85/100\n",
      "200/200 [==============================] - 212s 1s/step - loss: 0.1426 - accuracy: 0.9448 - val_loss: 0.9295 - val_accuracy: 0.7535\n",
      "Epoch 86/100\n",
      "200/200 [==============================] - 212s 1s/step - loss: 0.1376 - accuracy: 0.9475 - val_loss: 0.8993 - val_accuracy: 0.7520\n",
      "Epoch 87/100\n",
      "200/200 [==============================] - 212s 1s/step - loss: 0.1274 - accuracy: 0.9536 - val_loss: 0.9037 - val_accuracy: 0.7545\n",
      "Epoch 88/100\n",
      "200/200 [==============================] - 212s 1s/step - loss: 0.1292 - accuracy: 0.9502 - val_loss: 0.9640 - val_accuracy: 0.7355\n",
      "Epoch 89/100\n",
      "200/200 [==============================] - 213s 1s/step - loss: 0.1369 - accuracy: 0.9491 - val_loss: 0.9518 - val_accuracy: 0.7460\n",
      "Epoch 90/100\n",
      "200/200 [==============================] - 212s 1s/step - loss: 0.1382 - accuracy: 0.9477 - val_loss: 0.9098 - val_accuracy: 0.7340\n",
      "Epoch 91/100\n",
      "200/200 [==============================] - 213s 1s/step - loss: 0.1478 - accuracy: 0.9453 - val_loss: 0.9272 - val_accuracy: 0.7490\n",
      "Epoch 92/100\n",
      "200/200 [==============================] - 213s 1s/step - loss: 0.1288 - accuracy: 0.9513 - val_loss: 0.9556 - val_accuracy: 0.7435\n",
      "Epoch 93/100\n",
      "200/200 [==============================] - 212s 1s/step - loss: 0.1291 - accuracy: 0.9473 - val_loss: 1.0305 - val_accuracy: 0.7390\n",
      "Epoch 94/100\n",
      "200/200 [==============================] - 212s 1s/step - loss: 0.1273 - accuracy: 0.9523 - val_loss: 1.0448 - val_accuracy: 0.7255\n",
      "Epoch 95/100\n",
      "200/200 [==============================] - 211s 1s/step - loss: 0.1303 - accuracy: 0.9483 - val_loss: 1.0856 - val_accuracy: 0.7390\n",
      "Epoch 96/100\n",
      "200/200 [==============================] - 212s 1s/step - loss: 0.1206 - accuracy: 0.9561 - val_loss: 1.0790 - val_accuracy: 0.7395\n",
      "Epoch 97/100\n",
      "200/200 [==============================] - 213s 1s/step - loss: 0.1194 - accuracy: 0.9541 - val_loss: 1.0463 - val_accuracy: 0.7430\n",
      "Epoch 98/100\n",
      "200/200 [==============================] - 213s 1s/step - loss: 0.1153 - accuracy: 0.9564 - val_loss: 1.0598 - val_accuracy: 0.7420\n",
      "Epoch 99/100\n",
      "200/200 [==============================] - 212s 1s/step - loss: 0.1239 - accuracy: 0.9534 - val_loss: 1.0233 - val_accuracy: 0.7525\n",
      "Epoch 100/100\n",
      "200/200 [==============================] - 213s 1s/step - loss: 0.1147 - accuracy: 0.9575 - val_loss: 1.0295 - val_accuracy: 0.7455\n"
     ]
    }
   ],
   "source": [
    "history_callback = model.fit(train_generator,steps_per_epoch=len(train_generator),epochs=100,validation_data=test_set,validation_steps=len(test_set))"
   ]
  },
  {
   "attachments": {},
   "cell_type": "markdown",
   "metadata": {},
   "source": [
    "## Graficar "
   ]
  },
  {
   "cell_type": "code",
   "execution_count": 41,
   "metadata": {},
   "outputs": [
    {
     "data": {
      "image/png": "[encoded data removed]",
      "text/plain": [
       "<Figure size 640x480 with 1 Axes>"
      ]
     },
     "metadata": {},
     "output_type": "display_data"
    }
   ],
   "source": [
    "from matplotlib import pyplot as plt\n",
    "\n",
    "plt.plot(history_callback.history['accuracy'])\n",
    "plt.plot(history_callback.history['val_accuracy'])\n",
    "plt.title('model accuracy')\n",
    "plt.ylabel('accuracy')\n",
    "plt.xlabel('epoch')\n",
    "plt.legend(['train', 'val'], loc='upper left')\n",
    "plt.show()"
   ]
  },
  {
   "cell_type": "code",
   "execution_count": 42,
   "metadata": {},
   "outputs": [
    {
     "data": {
      "image/png": "[encoded data removed]",
      "text/plain": [
       "<Figure size 640x480 with 1 Axes>"
      ]
     },
     "metadata": {},
     "output_type": "display_data"
    }
   ],
   "source": [
    "plt.plot(history_callback.history['loss'])\n",
    "plt.plot(history_callback.history['val_loss'])\n",
    "plt.title('model loss')\n",
    "plt.ylabel('loss')\n",
    "plt.xlabel('epoch')\n",
    "plt.legend(['train', 'val'], loc='upper left')\n",
    "plt.show()"
   ]
  },
  {
   "attachments": {},
   "cell_type": "markdown",
   "metadata": {},
   "source": [
    "## Prediccion y evaluacion"
   ]
  },
  {
   "cell_type": "code",
   "execution_count": 43,
   "metadata": {},
   "outputs": [
    {
     "name": "stdout",
     "output_type": "stream",
     "text": [
      "63/63 [==============================] - 47s 740ms/step\n",
      "[1, 0, 1, 0, 0, 1, 0, 1, 0, 1, 0, 0, 1, 1, 1, 0, 1, 1, 0, 0, 0, 0, 1, 0, 0, 0, 0, 0, 0, 1, 1, 0, 0, 0, 1, 0, 0, 0, 1, 1, 1, 0, 0, 1, 1, 0, 1, 0, 0, 1, 0, 0, 1, 1, 1, 0, 0, 1, 1, 0, 0, 0, 0, 1, 0, 1, 1, 0, 0, 1, 1, 1, 1, 0, 1, 1, 0, 1, 0, 1, 1, 1, 1, 0, 1, 0, 1, 0, 1, 0, 1, 0, 1, 1, 0, 1, 1, 1, 1, 0, 1, 1, 0, 0, 0, 0, 0, 0, 1, 0, 1, 0, 1, 1, 1, 1, 0, 1, 1, 0, 1, 1, 0, 1, 0, 0, 0, 1, 0, 0, 0, 1, 1, 1, 1, 1, 0, 0, 0, 0, 1, 0, 0, 1, 1, 0, 0, 0, 0, 1, 0, 1, 0, 1, 0, 0, 0, 1, 0, 1, 1, 0, 0, 0, 1, 0, 0, 0, 0, 0, 1, 0, 0, 0, 1, 0, 0, 0, 1, 0, 0, 0, 1, 0, 0, 1, 0, 0, 0, 0, 1, 1, 1, 1, 1, 0, 1, 1, 0, 1, 1, 0, 1, 0, 1, 1, 0, 1, 0, 0, 1, 0, 0, 0, 0, 1, 0, 1, 0, 0, 1, 1, 1, 1, 0, 1, 0, 0, 1, 1, 0, 0, 0, 0, 0, 1, 0, 0, 0, 1, 0, 1, 1, 0, 0, 0, 1, 1, 1, 0, 0, 1, 1, 1, 0, 1, 1, 1, 0, 1, 0, 1, 0, 1, 0, 1, 0, 1, 1, 0, 1, 0, 1, 0, 0, 0, 1, 1, 1, 0, 1, 1, 0, 0, 1, 1, 1, 1, 1, 0, 1, 0, 1, 0, 1, 0, 0, 1, 1, 0, 0, 1, 0, 0, 1, 1, 0, 1, 1, 1, 0, 1, 0, 1, 1, 0, 0, 1, 1, 0, 1, 1, 0, 0, 1, 0, 0, 1, 1, 1, 1, 0, 0, 1, 1, 0, 1, 0, 0, 0, 0, 0, 0, 1, 1, 0, 1, 0, 0, 0, 0, 1, 0, 1, 0, 0, 1, 1, 1, 1, 0, 0, 1, 1, 0, 0, 1, 0, 1, 1, 0, 0, 0, 1, 0, 1, 0, 1, 1, 1, 0, 0, 0, 1, 1, 0, 1, 1, 1, 1, 1, 1, 1, 1, 0, 0, 1, 0, 1, 1, 0, 1, 0, 0, 0, 0, 0, 1, 1, 1, 0, 0, 0, 1, 0, 1, 1, 0, 0, 0, 0, 0, 0, 0, 1, 1, 0, 1, 1, 1, 0, 0, 0, 0, 0, 0, 0, 0, 0, 1, 1, 1, 1, 1, 0, 1, 1, 0, 1, 0, 1, 1, 1, 0, 1, 1, 0, 0, 1, 0, 0, 1, 0, 0, 1, 1, 1, 0, 0, 1, 1, 0, 1, 1, 1, 1, 1, 0, 0, 1, 0, 0, 1, 1, 1, 0, 0, 1, 1, 0, 0, 0, 1, 0, 0, 1, 0, 1, 1, 0, 0, 1, 1, 1, 1, 1, 1, 1, 1, 1, 0, 0, 0, 0, 0, 0, 1, 1, 1, 1, 0, 1, 0, 1, 1, 1, 1, 0, 0, 0, 1, 0, 0, 0, 1, 0, 0, 1, 0, 0, 1, 0, 1, 0, 0, 1, 1, 0, 1, 0, 1, 0, 1, 1, 0, 0, 0, 1, 1, 0, 0, 0, 1, 0, 1, 1, 0, 1, 0, 0, 0, 1, 1, 1, 1, 0, 1, 1, 0, 1, 1, 1, 1, 0, 0, 0, 0, 0, 0, 0, 1, 1, 0, 1, 1, 0, 0, 0, 0, 0, 1, 0, 1, 1, 1, 0, 0, 0, 1, 0, 1, 0, 1, 0, 0, 1, 1, 0, 0, 1, 0, 1, 0, 0, 1, 0, 0, 1, 0, 0, 1, 0, 1, 1, 1, 0, 1, 0, 0, 0, 0, 0, 0, 0, 0, 0, 1, 0, 0, 1, 0, 1, 0, 0, 1, 0, 0, 0, 0, 0, 0, 0, 1, 1, 1, 0, 0, 0, 0, 0, 1, 1, 1, 1, 0, 0, 1, 1, 1, 0, 1, 0, 0, 0, 0, 0, 1, 0, 1, 1, 1, 1, 0, 1, 0, 0, 0, 0, 1, 1, 1, 1, 0, 0, 0, 0, 0, 1, 1, 0, 1, 0, 1, 0, 1, 1, 0, 1, 1, 1, 0, 1, 1, 0, 1, 0, 0, 1, 1, 1, 0, 1, 1, 0, 0, 1, 0, 0, 0, 1, 0, 1, 1, 0, 1, 1, 1, 1, 1, 1, 1, 0, 1, 1, 0, 1, 0, 0, 0, 0, 0, 1, 1, 1, 0, 0, 0, 1, 0, 1, 0, 0, 0, 1, 1, 1, 0, 1, 0, 1, 0, 1, 1, 0, 0, 0, 0, 0, 1, 0, 0, 0, 1, 1, 0, 1, 1, 1, 1, 0, 0, 0, 0, 0, 1, 0, 1, 1, 1, 0, 1, 0, 1, 0, 0, 0, 1, 0, 1, 1, 0, 0, 1, 0, 0, 0, 1, 1, 0, 1, 1, 1, 0, 0, 0, 0, 1, 0, 0, 0, 1, 1, 0, 1, 0, 0, 1, 0, 0, 0, 0, 1, 1, 1, 0, 0, 1, 1, 1, 1, 0, 1, 0, 0, 1, 1, 0, 0, 0, 0, 0, 0, 1, 0, 1, 0, 1, 1, 1, 0, 1, 1, 1, 0, 0, 1, 0, 1, 1, 0, 0, 1, 1, 0, 1, 1, 0, 1, 1, 0, 0, 0, 0, 0, 1, 0, 0, 0, 0, 0, 1, 0, 0, 0, 0, 0, 0, 1, 1, 0, 1, 1, 0, 1, 1, 0, 1, 1, 0, 0, 0, 0, 0, 1, 0, 1, 1, 0, 0, 0, 0, 1, 0, 0, 0, 1, 1, 1, 1, 1, 1, 0, 0, 1, 0, 0, 0, 0, 1, 0, 1, 1, 0, 0, 0, 1, 0, 1, 0, 1, 1, 0, 0, 1, 1, 0, 1, 1, 0, 0, 1, 0, 1, 0, 1, 1, 0, 0, 1, 1, 1, 0, 0, 1, 1, 1, 1, 0, 0, 1, 1, 0, 0, 1, 0, 1, 0, 1, 0, 1, 0, 0, 0, 1, 1, 0, 0, 1, 1, 0, 0, 0, 0, 0, 1, 0, 0, 0, 1, 0, 0, 0, 1, 0, 0, 0, 0, 0, 1, 0, 1, 0, 0, 0, 0, 0, 1, 1, 1, 0, 1, 0, 0, 0, 0, 1, 1, 1, 1, 1, 0, 1, 0, 0, 1, 0, 0, 0, 0, 0, 1, 0, 1, 0, 1, 1, 0, 1, 0, 1, 0, 1, 0, 1, 0, 0, 0, 0, 0, 0, 0, 0, 1, 0, 0, 1, 1, 1, 1, 0, 1, 1, 0, 0, 0, 0, 0, 0, 0, 1, 1, 1, 0, 0, 0, 1, 0, 0, 0, 0, 1, 1, 1, 0, 0, 1, 0, 0, 0, 1, 0, 1, 1, 0, 1, 1, 0, 1, 0, 1, 1, 0, 1, 0, 0, 1, 0, 0, 1, 0, 1, 0, 1, 0, 1, 0, 0, 1, 1, 0, 1, 0, 0, 0, 0, 0, 0, 0, 0, 1, 0, 0, 1, 1, 0, 0, 1, 1, 0, 1, 1, 0, 1, 0, 1, 0, 0, 1, 1, 1, 1, 0, 0, 0, 0, 1, 0, 1, 0, 0, 1, 0, 1, 1, 0, 0, 1, 0, 0, 1, 0, 0, 1, 0, 1, 1, 0, 1, 1, 0, 1, 1, 1, 1, 0, 1, 1, 1, 0, 0, 1, 1, 0, 1, 1, 1, 1, 0, 1, 0, 1, 1, 1, 0, 1, 0, 1, 0, 1, 1, 1, 1, 0, 0, 0, 1, 1, 1, 1, 0, 0, 1, 1, 0, 0, 0, 1, 0, 1, 1, 1, 0, 0, 0, 0, 0, 1, 1, 0, 0, 0, 0, 0, 1, 1, 0, 0, 0, 1, 1, 0, 0, 1, 0, 0, 0, 0, 0, 0, 0, 1, 0, 0, 1, 0, 0, 0, 0, 1, 0, 1, 0, 1, 1, 0, 1, 1, 1, 0, 0, 1, 1, 1, 0, 1, 0, 0, 1, 1, 1, 0, 0, 0, 1, 0, 1, 0, 1, 1, 0, 0, 1, 1, 1, 1, 1, 1, 1, 1, 1, 1, 0, 0, 0, 0, 0, 0, 0, 1, 1, 0, 0, 1, 0, 0, 0, 0, 1, 0, 1, 0, 1, 0, 1, 0, 1, 1, 1, 0, 0, 1, 0, 0, 0, 0, 1, 1, 1, 0, 0, 0, 0, 0, 1, 0, 0, 1, 0, 1, 1, 1, 0, 0, 1, 1, 0, 0, 1, 0, 0, 0, 0, 1, 0, 1, 0, 0, 0, 0, 0, 1, 0, 0, 1, 1, 1, 1, 0, 0, 0, 1, 1, 1, 1, 0, 1, 1, 1, 1, 1, 0, 0, 0, 0, 0, 0, 1, 0, 0, 1, 0, 0, 1, 1, 1, 1, 1, 1, 0, 0, 0, 1, 1, 1, 1, 1, 1, 1, 0, 1, 0, 1, 1, 0, 0, 1, 1, 1, 0, 0, 0, 1, 1, 1, 1, 1, 1, 1, 0, 1, 0, 1, 0, 1, 1, 0, 0, 0, 0, 1, 0, 1, 0, 1, 1, 1, 0, 1, 0, 0, 0, 1, 0, 0, 1, 1, 0, 0, 0, 1, 1, 0, 0, 0, 0, 1, 0, 0, 0, 1, 0, 1, 0, 0, 1, 0, 1, 1, 0, 1, 1, 0, 0, 0, 1, 1, 0, 0, 0, 1, 0, 1, 0, 0, 0, 1, 0, 0, 0, 1, 1, 1, 0, 1, 1, 0, 0, 1, 1, 0, 0, 1, 0, 1, 0, 1, 1, 0, 0, 1, 1, 1, 0, 0, 1, 0, 0, 1, 0, 0, 1, 0, 0, 1, 1, 0, 1, 0, 1, 0, 0, 1, 1, 1, 0, 0, 0, 0, 1, 1, 0, 0, 0, 0, 1, 1, 0, 1, 0, 1, 0, 1, 0, 0, 1, 1, 0, 0, 0, 0, 1, 1, 1, 1, 0, 0, 1, 0, 1, 0, 0, 1, 1, 0, 1, 0, 0, 0, 0, 1, 0, 0, 0, 1, 0, 0, 0, 0, 0, 0, 0, 1, 0, 1, 1, 0, 1, 0, 1, 1, 0, 0, 0, 1, 1, 0, 0, 0, 0, 1, 1, 1, 0, 1, 0, 0, 1, 1, 0, 0, 0, 0, 1, 1, 0, 1, 0, 1, 0, 1, 1, 1, 1, 0, 1, 0, 0, 0, 0, 0, 0, 1, 1, 1, 1, 0, 0, 0, 0, 0, 0, 1, 1, 0, 0, 1, 1, 0, 0, 1, 0, 1, 1, 1, 0, 1, 1, 1, 0, 0, 1, 0, 0, 0, 1, 1, 1, 1, 1, 0, 0, 0, 0, 0, 0, 0, 0, 0, 0, 0, 1, 0, 1, 1, 1, 0, 0, 1, 1, 0, 0, 1, 1, 1, 1, 0, 1, 1, 1, 1, 0, 0, 0, 1, 1, 0, 0, 0, 1, 1, 1, 0, 0, 0, 0, 0, 0, 1, 1, 1, 1, 0, 0, 1, 1, 0, 0, 0, 1, 1, 1, 1, 0, 0, 1, 1, 1, 1, 0, 1, 1, 0, 1, 1, 1, 1, 0, 0, 1, 1, 1, 0, 1, 0, 0, 0, 1, 0, 0, 1, 0, 0, 1, 1, 0, 1, 1, 1, 0, 1, 1, 0, 0, 0, 1, 0, 0, 1, 0, 0, 1, 0, 0, 0, 1, 0, 0, 1, 1, 0, 0, 0, 0, 1, 0, 1, 1, 0, 0, 0, 0, 0, 1, 1, 1, 1, 0, 1, 1, 0, 0, 0, 1, 1, 1, 1, 0, 1, 1, 1, 0, 1, 0, 0, 0, 0, 1, 1, 0, 1, 1, 1, 1, 1, 1, 1, 0, 1, 0, 0, 0, 0, 1, 1, 0, 0, 1, 1, 1, 0, 0, 0, 0, 0, 0, 1, 1, 1, 1, 0, 1, 1, 1, 0, 1, 0, 0, 1, 0, 0, 0, 1, 1, 0, 0, 1, 0, 1, 0, 0, 0, 0, 0, 1, 0, 0, 1, 0, 1, 1, 1, 0, 1, 0, 0, 0, 0, 1, 1, 0, 1, 0, 0, 1, 1, 1, 1, 0, 1, 0, 0, 0, 1, 0, 1, 1, 0, 0, 0, 0]\n"
     ]
    }
   ],
   "source": [
    "predictions = model.predict(test_set)\n",
    "predicted_labels = [1 if prediction > 0.5 else 0 for prediction in predictions]\n",
    "print(predicted_labels)"
   ]
  },
  {
   "cell_type": "code",
   "execution_count": 44,
   "metadata": {},
   "outputs": [
    {
     "name": "stdout",
     "output_type": "stream",
     "text": [
      "63/63 [==============================] - 49s 775ms/step\n"
     ]
    },
    {
     "data": {
      "text/plain": [
       "0.49934667491919393"
      ]
     },
     "execution_count": 44,
     "metadata": {},
     "output_type": "execute_result"
    }
   ],
   "source": [
    "from sklearn.metrics import confusion_matrix,accuracy_score, precision_score, recall_score, f1_score\n",
    "y_pred = model.predict(test_set)\n",
    "y_pred = (y_pred > 0.5)  # Convertir las probabilidades en clases binarias (0 o 1)\n",
    "y_true = test_set.classes\n",
    "cm = confusion_matrix(y_true, y_pred)\n",
    "acu = accuracy_score(y_true, y_pred)\n",
    "pre = precision_score(y_true, y_pred, average='macro')\n",
    "re = recall_score(y_true, y_pred, average='macro')\n",
    "f1 = f1_score(y_true, y_pred, average='macro')"
   ]
  }
 ],
 "metadata": {
  "kernelspec": {
   "display_name": "Python 3",
   "language": "python",
   "name": "python3"
  },
  "language_info": {
   "codemirror_mode": {
    "name": "ipython",
    "version": 3
   },
   "file_extension": ".py",
   "mimetype": "text/x-python",
   "name": "python",
   "nbconvert_exporter": "python",
   "pygments_lexer": "ipython3",
   "version": "3.11.2"
  },
  "orig_nbformat": 4
 },
 "nbformat": 4,
 "nbformat_minor": 2
}
